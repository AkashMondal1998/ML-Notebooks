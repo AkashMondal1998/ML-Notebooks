{
 "cells": [
  {
   "cell_type": "code",
   "execution_count": 15,
   "metadata": {},
   "outputs": [],
   "source": [
    "import tensorflow as tf\n",
    "from tensorflow.keras.layers import Dense\n",
    "from tensorflow.keras.losses import SparseCategoricalCrossentropy\n",
    "from tensorflow.keras.optimizers import Adam\n",
    "import matplotlib.pyplot as plt\n",
    "import numpy as np"
   ]
  },
  {
   "cell_type": "code",
   "execution_count": 16,
   "metadata": {},
   "outputs": [],
   "source": [
    "(x_train, y_train), (x_test, y_test) = tf.keras.datasets.mnist.load_data()"
   ]
  },
  {
   "cell_type": "code",
   "execution_count": 17,
   "metadata": {},
   "outputs": [],
   "source": [
    "x_train = x_train.reshape(-1, 28 * 28)"
   ]
  },
  {
   "cell_type": "code",
   "execution_count": 18,
   "metadata": {},
   "outputs": [],
   "source": [
    "x_test = x_test.reshape(-1, 28 * 28)"
   ]
  },
  {
   "cell_type": "code",
   "execution_count": 19,
   "metadata": {},
   "outputs": [
    {
     "data": {
      "text/plain": [
       "dtype('uint8')"
      ]
     },
     "execution_count": 19,
     "metadata": {},
     "output_type": "execute_result"
    }
   ],
   "source": [
    "x_train.dtype"
   ]
  },
  {
   "cell_type": "code",
   "execution_count": 20,
   "metadata": {},
   "outputs": [],
   "source": [
    "model = tf.keras.Sequential(\n",
    "    [\n",
    "        Dense(activation=\"relu\", units=25),\n",
    "        Dense(activation=\"relu\", units=15),\n",
    "        Dense(activation=\"linear\", units=10),\n",
    "    ]\n",
    ")"
   ]
  },
  {
   "cell_type": "code",
   "execution_count": 21,
   "metadata": {},
   "outputs": [],
   "source": [
    "model.compile(loss=SparseCategoricalCrossentropy(from_logits=True), optimizer=Adam())"
   ]
  },
  {
   "cell_type": "code",
   "execution_count": 31,
   "metadata": {},
   "outputs": [
    {
     "name": "stdout",
     "output_type": "stream",
     "text": [
      "Epoch 1/100\n",
      "1875/1875 [==============================] - 1s 529us/step - loss: 0.2111\n",
      "Epoch 2/100\n",
      "1875/1875 [==============================] - 1s 525us/step - loss: 0.2110\n",
      "Epoch 3/100\n",
      "1875/1875 [==============================] - 1s 525us/step - loss: 0.2072\n",
      "Epoch 4/100\n",
      "1875/1875 [==============================] - 1s 531us/step - loss: 0.2084\n",
      "Epoch 5/100\n",
      "1875/1875 [==============================] - 1s 524us/step - loss: 0.2071\n",
      "Epoch 6/100\n",
      "1875/1875 [==============================] - 1s 524us/step - loss: 0.2052\n",
      "Epoch 7/100\n",
      "1875/1875 [==============================] - 1s 531us/step - loss: 0.2042\n",
      "Epoch 8/100\n",
      "1875/1875 [==============================] - 1s 523us/step - loss: 0.2020\n",
      "Epoch 9/100\n",
      "1875/1875 [==============================] - 1s 533us/step - loss: 0.2003\n",
      "Epoch 10/100\n",
      "1875/1875 [==============================] - 1s 526us/step - loss: 0.1992\n",
      "Epoch 11/100\n",
      "1875/1875 [==============================] - 1s 526us/step - loss: 0.1979\n",
      "Epoch 12/100\n",
      "1875/1875 [==============================] - 1s 533us/step - loss: 0.1953\n",
      "Epoch 13/100\n",
      "1875/1875 [==============================] - 1s 534us/step - loss: 0.1937\n",
      "Epoch 14/100\n",
      "1875/1875 [==============================] - 1s 530us/step - loss: 0.1947\n",
      "Epoch 15/100\n",
      "1875/1875 [==============================] - 1s 526us/step - loss: 0.1922\n",
      "Epoch 16/100\n",
      "1875/1875 [==============================] - 1s 533us/step - loss: 0.1928\n",
      "Epoch 17/100\n",
      "1875/1875 [==============================] - 1s 528us/step - loss: 0.1901\n",
      "Epoch 18/100\n",
      "1875/1875 [==============================] - 1s 524us/step - loss: 0.1893\n",
      "Epoch 19/100\n",
      "1875/1875 [==============================] - 1s 530us/step - loss: 0.1894\n",
      "Epoch 20/100\n",
      "1875/1875 [==============================] - 1s 528us/step - loss: 0.1876\n",
      "Epoch 21/100\n",
      "1875/1875 [==============================] - 1s 527us/step - loss: 0.1883\n",
      "Epoch 22/100\n",
      "1875/1875 [==============================] - 1s 529us/step - loss: 0.1873\n",
      "Epoch 23/100\n",
      "1875/1875 [==============================] - 1s 533us/step - loss: 0.1890\n",
      "Epoch 24/100\n",
      "1875/1875 [==============================] - 1s 528us/step - loss: 0.1841\n",
      "Epoch 25/100\n",
      "1875/1875 [==============================] - 1s 531us/step - loss: 0.1859\n",
      "Epoch 26/100\n",
      "1875/1875 [==============================] - 1s 535us/step - loss: 0.1815\n",
      "Epoch 27/100\n",
      "1875/1875 [==============================] - 1s 534us/step - loss: 0.1841\n",
      "Epoch 28/100\n",
      "1875/1875 [==============================] - 1s 527us/step - loss: 0.1809\n",
      "Epoch 29/100\n",
      "1875/1875 [==============================] - 1s 527us/step - loss: 0.1846\n",
      "Epoch 30/100\n",
      "1875/1875 [==============================] - 1s 527us/step - loss: 0.1804\n",
      "Epoch 31/100\n",
      "1875/1875 [==============================] - 1s 527us/step - loss: 0.1815\n",
      "Epoch 32/100\n",
      "1875/1875 [==============================] - 1s 526us/step - loss: 0.1796\n",
      "Epoch 33/100\n",
      "1875/1875 [==============================] - 1s 538us/step - loss: 0.1814\n",
      "Epoch 34/100\n",
      "1875/1875 [==============================] - 1s 526us/step - loss: 0.1791\n",
      "Epoch 35/100\n",
      "1875/1875 [==============================] - 1s 527us/step - loss: 0.1798\n",
      "Epoch 36/100\n",
      "1875/1875 [==============================] - 1s 522us/step - loss: 0.1791\n",
      "Epoch 37/100\n",
      "1875/1875 [==============================] - 1s 528us/step - loss: 0.1786\n",
      "Epoch 38/100\n",
      "1875/1875 [==============================] - 1s 528us/step - loss: 0.1790\n",
      "Epoch 39/100\n",
      "1875/1875 [==============================] - 1s 532us/step - loss: 0.1758\n",
      "Epoch 40/100\n",
      "1875/1875 [==============================] - 1s 529us/step - loss: 0.1775\n",
      "Epoch 41/100\n",
      "1875/1875 [==============================] - 1s 530us/step - loss: 0.1804\n",
      "Epoch 42/100\n",
      "1875/1875 [==============================] - 1s 532us/step - loss: 0.1756\n",
      "Epoch 43/100\n",
      "1875/1875 [==============================] - 1s 531us/step - loss: 0.1755\n",
      "Epoch 44/100\n",
      "1875/1875 [==============================] - 1s 535us/step - loss: 0.1747\n",
      "Epoch 45/100\n",
      "1875/1875 [==============================] - 1s 530us/step - loss: 0.1752\n",
      "Epoch 46/100\n",
      "1875/1875 [==============================] - 1s 536us/step - loss: 0.1744\n",
      "Epoch 47/100\n",
      "1875/1875 [==============================] - 1s 529us/step - loss: 0.1743\n",
      "Epoch 48/100\n",
      "1875/1875 [==============================] - 1s 532us/step - loss: 0.1748\n",
      "Epoch 49/100\n",
      "1875/1875 [==============================] - 1s 528us/step - loss: 0.1739\n",
      "Epoch 50/100\n",
      "1875/1875 [==============================] - 1s 530us/step - loss: 0.1732\n",
      "Epoch 51/100\n",
      "1875/1875 [==============================] - 1s 527us/step - loss: 0.1743\n",
      "Epoch 52/100\n",
      "1875/1875 [==============================] - 1s 530us/step - loss: 0.1735\n",
      "Epoch 53/100\n",
      "1875/1875 [==============================] - 1s 528us/step - loss: 0.1733\n",
      "Epoch 54/100\n",
      "1875/1875 [==============================] - 1s 528us/step - loss: 0.1731\n",
      "Epoch 55/100\n",
      "1875/1875 [==============================] - 1s 528us/step - loss: 0.1721\n",
      "Epoch 56/100\n",
      "1875/1875 [==============================] - 1s 529us/step - loss: 0.1722\n",
      "Epoch 57/100\n",
      "1875/1875 [==============================] - 1s 531us/step - loss: 0.1731\n",
      "Epoch 58/100\n",
      "1875/1875 [==============================] - 1s 527us/step - loss: 0.1700\n",
      "Epoch 59/100\n",
      "1875/1875 [==============================] - 1s 531us/step - loss: 0.1704\n",
      "Epoch 60/100\n",
      "1875/1875 [==============================] - 1s 532us/step - loss: 0.1712\n",
      "Epoch 61/100\n",
      "1875/1875 [==============================] - 1s 531us/step - loss: 0.1713\n",
      "Epoch 62/100\n",
      "1875/1875 [==============================] - 1s 534us/step - loss: 0.1718\n",
      "Epoch 63/100\n",
      "1875/1875 [==============================] - 1s 530us/step - loss: 0.1696\n",
      "Epoch 64/100\n",
      "1875/1875 [==============================] - 1s 530us/step - loss: 0.1699\n",
      "Epoch 65/100\n",
      "1875/1875 [==============================] - 1s 539us/step - loss: 0.1694\n",
      "Epoch 66/100\n",
      "1875/1875 [==============================] - 1s 532us/step - loss: 0.1709\n",
      "Epoch 67/100\n",
      "1875/1875 [==============================] - 1s 529us/step - loss: 0.1710\n",
      "Epoch 68/100\n",
      "1875/1875 [==============================] - 1s 530us/step - loss: 0.1719\n",
      "Epoch 69/100\n",
      "1875/1875 [==============================] - 1s 528us/step - loss: 0.1683\n",
      "Epoch 70/100\n",
      "1875/1875 [==============================] - 1s 530us/step - loss: 0.1720\n",
      "Epoch 71/100\n",
      "1875/1875 [==============================] - 1s 542us/step - loss: 0.1677\n",
      "Epoch 72/100\n",
      "1875/1875 [==============================] - 1s 528us/step - loss: 0.1694\n",
      "Epoch 73/100\n",
      "1875/1875 [==============================] - 1s 533us/step - loss: 0.1723\n",
      "Epoch 74/100\n",
      "1875/1875 [==============================] - 1s 531us/step - loss: 0.1692\n",
      "Epoch 75/100\n",
      "1875/1875 [==============================] - 1s 536us/step - loss: 0.1676\n",
      "Epoch 76/100\n",
      "1875/1875 [==============================] - 1s 526us/step - loss: 0.1680\n",
      "Epoch 77/100\n",
      "1875/1875 [==============================] - 1s 535us/step - loss: 0.1698\n",
      "Epoch 78/100\n",
      "1875/1875 [==============================] - 1s 529us/step - loss: 0.1674\n",
      "Epoch 79/100\n",
      "1875/1875 [==============================] - 1s 530us/step - loss: 0.1670\n",
      "Epoch 80/100\n",
      "1875/1875 [==============================] - 1s 532us/step - loss: 0.1658\n",
      "Epoch 81/100\n",
      "1875/1875 [==============================] - 1s 532us/step - loss: 0.1685\n",
      "Epoch 82/100\n",
      "1875/1875 [==============================] - 1s 554us/step - loss: 0.1662\n",
      "Epoch 83/100\n",
      "1875/1875 [==============================] - 1s 547us/step - loss: 0.1662\n",
      "Epoch 84/100\n",
      "1875/1875 [==============================] - 1s 534us/step - loss: 0.1672\n",
      "Epoch 85/100\n",
      "1875/1875 [==============================] - 1s 541us/step - loss: 0.1665\n",
      "Epoch 86/100\n",
      "1875/1875 [==============================] - 1s 531us/step - loss: 0.1675\n",
      "Epoch 87/100\n",
      "1875/1875 [==============================] - 1s 542us/step - loss: 0.1682\n",
      "Epoch 88/100\n",
      "1875/1875 [==============================] - 1s 543us/step - loss: 0.1674\n",
      "Epoch 89/100\n",
      "1875/1875 [==============================] - 1s 532us/step - loss: 0.1659\n",
      "Epoch 90/100\n",
      "1875/1875 [==============================] - 1s 531us/step - loss: 0.1673\n",
      "Epoch 91/100\n",
      "1875/1875 [==============================] - 1s 535us/step - loss: 0.1652\n",
      "Epoch 92/100\n",
      "1875/1875 [==============================] - 1s 522us/step - loss: 0.1642\n",
      "Epoch 93/100\n",
      "1875/1875 [==============================] - 1s 533us/step - loss: 0.1647\n",
      "Epoch 94/100\n",
      "1875/1875 [==============================] - 1s 556us/step - loss: 0.1669\n",
      "Epoch 95/100\n",
      "1875/1875 [==============================] - 1s 542us/step - loss: 0.1671\n",
      "Epoch 96/100\n",
      "1875/1875 [==============================] - 1s 542us/step - loss: 0.1651\n",
      "Epoch 97/100\n",
      "1875/1875 [==============================] - 1s 548us/step - loss: 0.1651\n",
      "Epoch 98/100\n",
      "1875/1875 [==============================] - 1s 547us/step - loss: 0.1656\n",
      "Epoch 99/100\n",
      "1875/1875 [==============================] - 1s 538us/step - loss: 0.1650\n",
      "Epoch 100/100\n",
      "1875/1875 [==============================] - 1s 539us/step - loss: 0.1662\n"
     ]
    },
    {
     "data": {
      "text/plain": [
       "<keras.src.callbacks.History at 0x7c679dd8f430>"
      ]
     },
     "execution_count": 31,
     "metadata": {},
     "output_type": "execute_result"
    }
   ],
   "source": [
    "model.fit(x_train, y_train, epochs=100)"
   ]
  },
  {
   "cell_type": "code",
   "execution_count": 23,
   "metadata": {},
   "outputs": [],
   "source": [
    "import random"
   ]
  },
  {
   "cell_type": "code",
   "execution_count": 24,
   "metadata": {},
   "outputs": [],
   "source": [
    "\n",
    "n = random.randint(0, x_test.shape[0])\n",
    "plt.title(\n",
    "        f\"pred {np.argmax(model.predict(x_test[n].reshape(1,-1)),axis=1).item()}, label {y_test[n]}\"\n",
    ")\n",
    "plt.imshow(x_test[n].reshape(28, 28))"
   ]
  },
  {
   "cell_type": "code",
   "execution_count": 32,
   "metadata": {},
   "outputs": [
    {
     "data": {
      "text/plain": [
       "93.19"
      ]
     },
     "execution_count": 32,
     "metadata": {},
     "output_type": "execute_result"
    }
   ],
   "source": [
    "\n",
    "(np.count_nonzero(np.argmax(model.predict_on_batch(x_test), axis=1) == y_test) / 10000) * 100\n",
    "  "
   ]
  },
  {
   "cell_type": "code",
   "execution_count": null,
   "metadata": {},
   "outputs": [],
   "source": []
  },
  {
   "cell_type": "code",
   "execution_count": null,
   "metadata": {},
   "outputs": [],
   "source": []
  }
 ],
 "metadata": {
  "kernelspec": {
   "display_name": ".venv",
   "language": "python",
   "name": "python3"
  },
  "language_info": {
   "codemirror_mode": {
    "name": "ipython",
    "version": 3
   },
   "file_extension": ".py",
   "mimetype": "text/x-python",
   "name": "python",
   "nbconvert_exporter": "python",
   "pygments_lexer": "ipython3",
   "version": "3.10.12"
  }
 },
 "nbformat": 4,
 "nbformat_minor": 2
}
